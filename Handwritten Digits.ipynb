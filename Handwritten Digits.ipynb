{
 "cells": [
  {
   "cell_type": "markdown",
   "metadata": {},
   "source": [
    "# Predicting handwritten digits from Mnist Dataset"
   ]
  },
  {
   "cell_type": "markdown",
   "metadata": {},
   "source": [
    "### Importing dataset from Tensorflow"
   ]
  },
  {
   "cell_type": "code",
   "execution_count": 1,
   "metadata": {},
   "outputs": [],
   "source": [
    "import tensorflow as tf\n",
    "import tensorflow_datasets as tfds\n",
    "import numpy as np\n",
    "from tensorflow.keras.preprocessing.image import ImageDataGenerator\n"
   ]
  },
  {
   "cell_type": "code",
   "execution_count": 2,
   "metadata": {},
   "outputs": [
    {
     "name": "stderr",
     "output_type": "stream",
     "text": [
      "/Users/prithvikewalramani/opt/anaconda3/lib/python3.7/site-packages/ipykernel_launcher.py:4: FutureWarning: arrays to stack must be passed as a \"sequence\" type such as list or tuple. Support for non-sequence iterables such as generators is deprecated as of NumPy 1.16 and will raise an error in the future.\n",
      "  after removing the cwd from sys.path.\n",
      "/Users/prithvikewalramani/opt/anaconda3/lib/python3.7/site-packages/ipykernel_launcher.py:5: FutureWarning: arrays to stack must be passed as a \"sequence\" type such as list or tuple. Support for non-sequence iterables such as generators is deprecated as of NumPy 1.16 and will raise an error in the future.\n",
      "  \"\"\"\n"
     ]
    }
   ],
   "source": [
    "dataset = tfds.load('mnist')\n",
    "train, test = dataset['train'], dataset['test']\n",
    "\n",
    "train_numpy = np.vstack(tfds.as_numpy(train))\n",
    "test_numpy = np.vstack(tfds.as_numpy(test))\n",
    "\n",
    "X_train = np.array(list(map(lambda x: x[0]['image'], train_numpy)))\n",
    "y_train = np.array(list(map(lambda x: x[0]['label'], train_numpy)))\n",
    "\n",
    "X_test = np.array(list(map(lambda x: x[0]['image'], test_numpy)))\n",
    "y_test = np.array(list(map(lambda x: x[0]['label'], test_numpy)))"
   ]
  },
  {
   "cell_type": "markdown",
   "metadata": {},
   "source": [
    "### Performing Preprocessing"
   ]
  },
  {
   "cell_type": "code",
   "execution_count": 3,
   "metadata": {},
   "outputs": [],
   "source": [
    "train_datagen = ImageDataGenerator(\n",
    "\trescale=1/255\n",
    ")\n",
    "validation_datagen = ImageDataGenerator(\n",
    "\trescale=1/255\n",
    ")\n"
   ]
  },
  {
   "cell_type": "code",
   "execution_count": 4,
   "metadata": {},
   "outputs": [],
   "source": [
    "train_generator = train_datagen.flow(\n",
    "        X_train,\n",
    "        y_train, \n",
    "        batch_size=100)\n",
    "\n",
    "validation_generator = validation_datagen.flow(\n",
    "        X_train,\n",
    "        y_train, \n",
    "        batch_size=50)\n",
    "\n"
   ]
  },
  {
   "cell_type": "code",
   "execution_count": 5,
   "metadata": {},
   "outputs": [],
   "source": [
    "from tensorflow.keras.layers import *"
   ]
  },
  {
   "cell_type": "markdown",
   "metadata": {},
   "source": [
    "### Creating Model"
   ]
  },
  {
   "cell_type": "code",
   "execution_count": 6,
   "metadata": {},
   "outputs": [],
   "source": [
    "model=tf.keras.Sequential([\n",
    "    Conv2D(16, (3,3), input_shape=(28,28,1)),\n",
    "    MaxPooling2D(2,2),\n",
    "    Conv2D(32, (3,3)),\n",
    "    MaxPooling2D(2,2),\n",
    "    Flatten(),\n",
    "    Dense(64, activation='relu'),\n",
    "    Dense(10, activation='softmax')\n",
    "])"
   ]
  },
  {
   "cell_type": "code",
   "execution_count": 7,
   "metadata": {},
   "outputs": [],
   "source": [
    "model.compile(optimizer = 'adam',\n",
    "loss = 'sparse_categorical_crossentropy',\n",
    "metrics=['accuracy'])\n"
   ]
  },
  {
   "cell_type": "code",
   "execution_count": 8,
   "metadata": {},
   "outputs": [
    {
     "name": "stdout",
     "output_type": "stream",
     "text": [
      "WARNING:tensorflow:From <ipython-input-8-42c654dffe97>:6: Model.fit_generator (from tensorflow.python.keras.engine.training) is deprecated and will be removed in a future version.\n",
      "Instructions for updating:\n",
      "Please use Model.fit, which supports generators.\n"
     ]
    },
    {
     "name": "stderr",
     "output_type": "stream",
     "text": [
      "WARNING:tensorflow:From <ipython-input-8-42c654dffe97>:6: Model.fit_generator (from tensorflow.python.keras.engine.training) is deprecated and will be removed in a future version.\n",
      "Instructions for updating:\n",
      "Please use Model.fit, which supports generators.\n"
     ]
    },
    {
     "name": "stdout",
     "output_type": "stream",
     "text": [
      "Epoch 1/10\n",
      "70/70 [==============================] - 3s 37ms/step - loss: 1.0336 - accuracy: 0.7050 - val_loss: 0.4421 - val_accuracy: 0.8655\n",
      "Epoch 2/10\n",
      "70/70 [==============================] - 2s 33ms/step - loss: 0.3350 - accuracy: 0.9030 - val_loss: 0.2949 - val_accuracy: 0.9125\n",
      "Epoch 3/10\n",
      "70/70 [==============================] - 2s 34ms/step - loss: 0.2477 - accuracy: 0.9264 - val_loss: 0.2110 - val_accuracy: 0.9360\n",
      "Epoch 4/10\n",
      "70/70 [==============================] - 2s 36ms/step - loss: 0.1898 - accuracy: 0.9433 - val_loss: 0.1610 - val_accuracy: 0.9480\n",
      "Epoch 5/10\n",
      "70/70 [==============================] - 3s 37ms/step - loss: 0.1524 - accuracy: 0.9551 - val_loss: 0.1451 - val_accuracy: 0.9590\n",
      "Epoch 6/10\n",
      "70/70 [==============================] - 3s 38ms/step - loss: 0.1297 - accuracy: 0.9601 - val_loss: 0.1317 - val_accuracy: 0.9655\n",
      "Epoch 7/10\n",
      "70/70 [==============================] - 2s 34ms/step - loss: 0.1163 - accuracy: 0.9656 - val_loss: 0.0930 - val_accuracy: 0.9740\n",
      "Epoch 8/10\n",
      "70/70 [==============================] - 2s 34ms/step - loss: 0.1014 - accuracy: 0.9710 - val_loss: 0.1060 - val_accuracy: 0.9675\n",
      "Epoch 9/10\n",
      "70/70 [==============================] - 2s 35ms/step - loss: 0.0955 - accuracy: 0.9727 - val_loss: 0.1309 - val_accuracy: 0.9630\n",
      "Epoch 10/10\n",
      "70/70 [==============================] - 2s 34ms/step - loss: 0.0938 - accuracy: 0.9714 - val_loss: 0.0930 - val_accuracy: 0.9720\n"
     ]
    }
   ],
   "source": [
    "history=model.fit_generator(\n",
    "\ttrain_generator,\n",
    "\tsteps_per_epoch=70,\n",
    "\tepochs=10,\n",
    "\tvalidation_data=validation_generator,\n",
    "\tvalidation_steps=40\n",
    "\t)\n"
   ]
  },
  {
   "cell_type": "markdown",
   "metadata": {},
   "source": [
    "### Model has been trained. Some examples below"
   ]
  },
  {
   "cell_type": "code",
   "execution_count": 34,
   "metadata": {},
   "outputs": [],
   "source": [
    "import matplotlib.pyplot as plt"
   ]
  },
  {
   "cell_type": "code",
   "execution_count": 43,
   "metadata": {},
   "outputs": [],
   "source": [
    "p=[np.random.randint(10000) for q in range(11)]"
   ]
  },
  {
   "cell_type": "code",
   "execution_count": 53,
   "metadata": {},
   "outputs": [
    {
     "data": {
      "image/png": "[encoded data removed]",
      "text/plain": [
       "<Figure size 432x288 with 11 Axes>"
      ]
     },
     "metadata": {
      "needs_background": "light"
     },
     "output_type": "display_data"
    }
   ],
   "source": [
    "# Displaying 10 random handwritten images in the test dataset\n",
    "\n",
    "j=0\n",
    "for i in p: \n",
    "    j+=1\n",
    "    plt.imshow(X_test[i].reshape([28,28]));\n",
    "    plt.subplot(1, 11, j)\n",
    "plt.show()"
   ]
  },
  {
   "cell_type": "code",
   "execution_count": 50,
   "metadata": {},
   "outputs": [
    {
     "name": "stdout",
     "output_type": "stream",
     "text": [
      "[5, 7, 0, 7, 6, 8, 2, 4, 3, 9]\n"
     ]
    }
   ],
   "source": [
    "# Actual values of the data in the test dataset\n",
    "\n",
    "values=[]\n",
    "for i in p[1:]:\n",
    "    values.append(y_test[i])\n",
    "print(values)"
   ]
  },
  {
   "cell_type": "code",
   "execution_count": 51,
   "metadata": {},
   "outputs": [
    {
     "name": "stdout",
     "output_type": "stream",
     "text": [
      "[8, 7, 0, 7, 6, 8, 2, 4, 3, 9]\n"
     ]
    }
   ],
   "source": [
    "# Predictions performed by the trained model\n",
    "\n",
    "predictions=[]\n",
    "for i in p[1:]:\n",
    "    predictions.append(list(model.predict(X_test)[i]).index(1))\n",
    "print(predictions)"
   ]
  },
  {
   "cell_type": "code",
   "execution_count": null,
   "metadata": {},
   "outputs": [],
   "source": []
  }
 ],
 "metadata": {
  "kernelspec": {
   "display_name": "Python 3",
   "language": "python",
   "name": "python3"
  },
  "language_info": {
   "codemirror_mode": {
    "name": "ipython",
    "version": 3
   },
   "file_extension": ".py",
   "mimetype": "text/x-python",
   "name": "python",
   "nbconvert_exporter": "python",
   "pygments_lexer": "ipython3",
   "version": "3.7.4"
  }
 },
 "nbformat": 4,
 "nbformat_minor": 2
}
